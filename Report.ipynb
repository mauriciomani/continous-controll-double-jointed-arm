{
 "cells": [
  {
   "cell_type": "markdown",
   "metadata": {},
   "source": [
    "# Continuous Control\n",
    "\n",
    "### 1. Start the Environment"
   ]
  },
  {
   "cell_type": "code",
   "execution_count": 1,
   "metadata": {},
   "outputs": [],
   "source": [
    "from unityagents import UnityEnvironment\n",
    "import numpy as np"
   ]
  },
  {
   "cell_type": "markdown",
   "metadata": {},
   "source": [
    "Next, we will start the environment!  **_Before running the code cell below_**, change the `file_name` parameter to match the location of the Unity environment that you downloaded.\n",
    "\n",
    "- **Mac**: `\"path/to/Reacher.app\"`\n",
    "- **Windows** (x86): `\"path/to/Reacher_Windows_x86/Reacher.exe\"`\n",
    "- **Windows** (x86_64): `\"path/to/Reacher_Windows_x86_64/Reacher.exe\"`\n",
    "- **Linux** (x86): `\"path/to/Reacher_Linux/Reacher.x86\"`\n",
    "- **Linux** (x86_64): `\"path/to/Reacher_Linux/Reacher.x86_64\"`\n",
    "- **Linux** (x86, headless): `\"path/to/Reacher_Linux_NoVis/Reacher.x86\"`\n",
    "- **Linux** (x86_64, headless): `\"path/to/Reacher_Linux_NoVis/Reacher.x86_64\"`\n",
    "\n",
    "For instance, if you are using a Mac, then you downloaded `Reacher.app`.  If this file is in the same folder as the notebook, then the line below should appear as follows:\n",
    "```\n",
    "env = UnityEnvironment(file_name=\"Reacher.app\")\n",
    "```\n",
    "I have already downloded the unity enviroment and place it same location as this file, once donde that you can access trough:"
   ]
  },
  {
   "cell_type": "code",
   "execution_count": 2,
   "metadata": {},
   "outputs": [
    {
     "name": "stderr",
     "output_type": "stream",
     "text": [
      "INFO:unityagents:\n",
      "'Academy' started successfully!\n",
      "Unity Academy name: Academy\n",
      "        Number of Brains: 1\n",
      "        Number of External Brains : 1\n",
      "        Lesson number : 0\n",
      "        Reset Parameters :\n",
      "\t\tgoal_speed -> 1.0\n",
      "\t\tgoal_size -> 5.0\n",
      "Unity brain name: ReacherBrain\n",
      "        Number of Visual Observations (per agent): 0\n",
      "        Vector Observation space type: continuous\n",
      "        Vector Observation space size (per agent): 33\n",
      "        Number of stacked Vector Observation: 1\n",
      "        Vector Action space type: continuous\n",
      "        Vector Action space size (per agent): 4\n",
      "        Vector Action descriptions: , , , \n"
     ]
    }
   ],
   "source": [
    "env = UnityEnvironment(file_name='Reacher_Linux/Reacher.x86')"
   ]
  },
  {
   "cell_type": "markdown",
   "metadata": {},
   "source": [
    "Environments contain **_brains_** which are responsible for deciding the actions of their associated agents. Here we check for the first brain available, and set it as the default brain we will be controlling from Python."
   ]
  },
  {
   "cell_type": "code",
   "execution_count": 3,
   "metadata": {},
   "outputs": [],
   "source": [
    "# get the default brain\n",
    "brain_name = env.brain_names[0]\n",
    "brain = env.brains[brain_name]"
   ]
  },
  {
   "cell_type": "markdown",
   "metadata": {},
   "source": [
    "### 2. Examine the State and Action Spaces\n",
    "\n",
    "In this environment, a double-jointed arm can move to target locations. A reward of `+0.1` is provided for each step that the agent's hand is in the goal location. Thus, the goal of your agent is to maintain its position at the target location for as many time steps as possible.\n",
    "\n",
    "The observation space consists of `33` variables corresponding to position, rotation, velocity, and angular velocities of the arm.  Each action is a vector with four numbers, corresponding to torque applicable to two joints.  Every entry in the action vector must be a number between `-1` and `1`.\n",
    "\n",
    "Run the code cell below to print some information about the environment."
   ]
  },
  {
   "cell_type": "code",
   "execution_count": 6,
   "metadata": {},
   "outputs": [
    {
     "name": "stdout",
     "output_type": "stream",
     "text": [
      "Number of agents: 1\n",
      "Size of each action: 4\n",
      "There are 1 agents. Each observes a state with length: 33\n",
      "The state for the first agent looks like: [ 0.00000000e+00 -4.00000000e+00  0.00000000e+00  1.00000000e+00\n",
      " -0.00000000e+00 -0.00000000e+00 -4.37113883e-08  0.00000000e+00\n",
      "  0.00000000e+00  0.00000000e+00  0.00000000e+00  0.00000000e+00\n",
      "  0.00000000e+00  0.00000000e+00 -1.00000000e+01  0.00000000e+00\n",
      "  1.00000000e+00 -0.00000000e+00 -0.00000000e+00 -4.37113883e-08\n",
      "  0.00000000e+00  0.00000000e+00  0.00000000e+00  0.00000000e+00\n",
      "  0.00000000e+00  0.00000000e+00  5.75471878e+00 -1.00000000e+00\n",
      "  5.55726671e+00  0.00000000e+00  1.00000000e+00  0.00000000e+00\n",
      " -1.68164849e-01]\n"
     ]
    }
   ],
   "source": [
    "# reset the environment\n",
    "env_info = env.reset(train_mode=True)[brain_name]\n",
    "\n",
    "# number of agents\n",
    "num_agents = len(env_info.agents)\n",
    "print('Number of agents:', num_agents)\n",
    "\n",
    "# size of each action\n",
    "action_size = brain.vector_action_space_size\n",
    "print('Size of each action:', action_size)\n",
    "\n",
    "# examine the state space \n",
    "states = env_info.vector_observations\n",
    "state_size = states.shape[1]\n",
    "print('There are {} agents. Each observes a state with length: {}'.format(states.shape[0], state_size))\n",
    "print('The state for the first agent looks like:', states[0])"
   ]
  },
  {
   "cell_type": "markdown",
   "metadata": {},
   "source": [
    "### 3. Take Random Actions in the Environment\n",
    "\n",
    "The cell below is just to give you an idea on how to make steps\n",
    "\n",
    "Once this cell is executed, you will watch the agent's performance, if it selects an action at random with each time step.  A window should pop up that allows you to observe the agent, as it moves through the environment.  "
   ]
  },
  {
   "cell_type": "code",
   "execution_count": 6,
   "metadata": {},
   "outputs": [
    {
     "name": "stdout",
     "output_type": "stream",
     "text": [
      "Total score (averaged over agents) this episode: 0.0\n"
     ]
    }
   ],
   "source": [
    "env_info = env.reset(train_mode=False)[brain_name]     # reset the environment    \n",
    "states = env_info.vector_observations                  # get the current state (for each agent)\n",
    "scores = np.zeros(num_agents)                          # initialize the score (for each agent)\n",
    "while True:\n",
    "    actions = np.random.randn(num_agents, action_size) # select an action (for each agent)\n",
    "    actions = np.clip(actions, -1, 1)                  # all actions between -1 and 1\n",
    "    env_info = env.step(actions)[brain_name]           # send all actions to tne environment\n",
    "    next_states = env_info.vector_observations         # get next state (for each agent)\n",
    "    rewards = env_info.rewards                         # get reward (for each agent)\n",
    "    dones = env_info.local_done                        # see if episode finished\n",
    "    scores += env_info.rewards                         # update the score (for each agent)\n",
    "    states = next_states                               # roll over states to next time step\n",
    "    if np.any(dones):                                  # exit loop if episode finished\n",
    "        break\n",
    "print('Total score (averaged over agents) this episode: {}'.format(np.mean(scores)))"
   ]
  },
  {
   "cell_type": "markdown",
   "metadata": {},
   "source": [
    "When finished, you can close the environment."
   ]
  },
  {
   "cell_type": "code",
   "execution_count": 9,
   "metadata": {},
   "outputs": [],
   "source": [
    "env.close()"
   ]
  },
  {
   "cell_type": "markdown",
   "metadata": {},
   "source": [
    "### 4. It's Your Turn!\n",
    "\n",
    "Now it's your turn to train your own agent to solve the environment!  When training the environment, set `train_mode=True`, so that the line for resetting the environment looks like the following:\n",
    "```python\n",
    "env_info = env.reset(train_mode=True)[brain_name]\n",
    "```"
   ]
  },
  {
   "cell_type": "markdown",
   "metadata": {},
   "source": [
    "# My implementation\n",
    "## Actor Critic Algorithms\n",
    "For infinite input space and infinite output space. Compared to Deep-Q that only allows a finite number of inputs, we have chosen Deep Deterministic Policy Gradient.\n",
    "#### Deep Deterministic Policy Gradient\n",
    "Used for continous action space, we have added noise to the process just like the authors did [Lillicrap et al, 2015](https://arxiv.org/pdf/1509.02971.pdf).\n",
    "\n",
    "### Use two separate models\n",
    "* One outputs the desire action in the continous space\n",
    "* Other an action to produce Q-values\n",
    "\n",
    "#### Actor Critic Methods is about having two models:\n",
    "Actor  takes current enviroment state and determines the best action to take from there. Critic takes in state and action and return score of how good the action is.\n",
    "\n",
    "#### Here is the code for Actor and Critic Network:\n",
    "Same architecture for both Agent and Critic with 2 fully connected layers of 400 and 300 units respectively, where values are normalized each batch. Activations are RELU on the first two layers for both Networks and then Tanh and no acytivation function respectively.\n",
    "\n",
    "#### Hyperparameters\n",
    "* fc1_units=400 \n",
    "* fc2_units=300 \n",
    "* BUFFER_SIZE = 100000  \n",
    "* BATCH_SIZE = 64     \n",
    "* GAMMA = 0.9          \n",
    "* TAU = 1e-4             \n",
    "* lr_actor = 1e-4        \n",
    "* lr_critic = 1e-4       \n",
    "* WEIGHT_DECAY = 0       \n",
    "* LEARN_EVERY = 20       \n",
    "* learning_num = 10      \n",
    "* GRAD_CLIPPING = 1.0    \n",
    "* ou_sigma = 0.2\n",
    "* ou_theta = 0.15\n",
    "* EPSILON = 1.0  \n",
    "* EPSILON_DECAY = 1e-6"
   ]
  },
  {
   "cell_type": "code",
   "execution_count": 11,
   "metadata": {},
   "outputs": [
    {
     "name": "stdout",
     "output_type": "stream",
     "text": [
      "import numpy as np\n",
      "import torch \n",
      "import torch.nn as nn\n",
      "import torch.nn.functional as F\n",
      "\n",
      "class Actor(nn.Module):\n",
      "    \"\"\"Actor\"\"\"\n",
      "    \n",
      "    def __init__(self, state_size, action_size, seed, fc1_units=400, fc2_units=300):\n",
      "        \"\"\"\n",
      "        Using two fully connected layers with 400 and 300 units respectively. Not resetting parameters.\n",
      "        \"\"\"\n",
      "        super(Actor, self).__init__()\n",
      "        #use for \n",
      "        self.seed = torch.manual_seed(seed)\n",
      "        #for fully connected layer input\n",
      "        self.fc1 = nn.Linear(state_size, fc1_units)\n",
      "        #Applying batch normalization\n",
      "        self.bn1 = nn.BatchNorm1d(fc1_units)\n",
      "        #fully connected layers\n",
      "        self.fc2 = nn.Linear(fc1_units, fc2_units)\n",
      "        self.fc3 =  nn.Linear(fc2_units, action_size)\n",
      "        \n",
      "    def forward(self, state):\n",
      "        \"\"\"Actor policy network to map states to actions, using relus and tahn\"\"\"\n",
      "        x = F.relu(self.bn1(self.fc1(state)))\n",
      "        x = F.relu(self.fc2(x))\n",
      "        return torch.tanh(self.fc3(x))\n",
      "    \n",
      "class Critic(nn.Module):\n",
      "    \"\"\"Critic\"\"\"\n",
      "    def __init__(self, state_size, action_size, seed, fc1_units=400, fc2_units=300):\n",
      "        \"\"\"Using same architecture as in Actor network. Two fully connected layers of 400 and 300 units respectively.\n",
      "        \"\"\"\n",
      "        super(Critic, self).__init__()\n",
      "        self.seed = torch.manual_seed(seed)\n",
      "        self.fc1 = nn.Linear(state_size, fc1_units)\n",
      "        self.bn1 = nn.BatchNorm1d(fc1_units)\n",
      "        #in forward function action will be concatenated according to DDGP \n",
      "        self.fc2 = nn.Linear(fc1_units+action_size, fc2_units)\n",
      "        self.fc3 = nn.Linear(fc2_units, 1)\n",
      "        \n",
      "    def forward(self, state, action):\n",
      "        \"\"\"Critic value network that maps (state,action) pairs to Q-values\"\"\"\n",
      "        x = F.relu(self.bn1(self.fc1(state)))\n",
      "        #to concatenate action\n",
      "        x = torch.cat((x, action), dim=1)\n",
      "        x = F.relu(self.fc2(x))\n",
      "        return self.fc3(x)"
     ]
    }
   ],
   "source": [
    "! cat model.py"
   ]
  },
  {
   "cell_type": "code",
   "execution_count": 2,
   "metadata": {},
   "outputs": [
    {
     "name": "stdout",
     "output_type": "stream",
     "text": [
      "from collections import namedtuple, deque\n",
      "import torch\n",
      "import torch.nn.functional as F\n",
      "import torch.optim as optim\n",
      "import numpy as np\n",
      "import random\n",
      "from model import Actor, Critic\n",
      "import copy\n",
      "\n",
      "BUFFER_SIZE = 100000  # replay buffer\n",
      "BATCH_SIZE = 64       # batch size: fixed batch per pass\n",
      "GAMMA = 0.9           # discount factor\n",
      "TAU = 1e-4             # for soft update: Not update at once but frequently https://arxiv.org/pdf/1509.02971.pdf\n",
      "lr_actor = 1e-4        # learning rate actor\n",
      "lr_critic = 1e-4       # learning rate critic\n",
      "WEIGHT_DECAY = 0       # L2 weight decay\n",
      "\n",
      "LEARN_EVERY = 20       # learning timestep interval\n",
      "learning_num = 10         # number of learning passes\n",
      "GRAD_CLIPPING = 1.0    # gradient clipping \n",
      "\n",
      "# Ornstein-Uhlenbeck: Stochastic stationary Gauss-Markov process\n",
      "ou_sigma = 0.2\n",
      "ou_theta = 0.15\n",
      "\n",
      "EPSILON = 1.0  \n",
      "EPSILON_DECAY = 1e-6\n",
      "\n",
      "#gpu if possible\n",
      "device = torch.device(\"cuda:0\" if torch.cuda.is_available() else \"cpu\")\n",
      "\n",
      "class Agent():\n",
      "    \n",
      "    def __init__(self, state_size, action_size, seed=12):\n",
      "        \n",
      "        self.state_size = state_size\n",
      "        self.action_size = action_size\n",
      "        self.seed = random.seed(seed)\n",
      "        \n",
      "        self.epsilon = EPSILON\n",
      "        \n",
      "        #This the actor network. Imported from model.py\n",
      "        self.actor_local = Actor(state_size, action_size, seed).to(device)\n",
      "        self.actor_target = Actor(state_size, action_size, seed).to(device)\n",
      "        self.actor_optimizer = optim.Adam(self.actor_local.parameters(), lr=lr_actor)\n",
      "        \n",
      "        #We will test the critic to see how good is the action. Imported from model.py\n",
      "        self.critic_local = Critic(state_size, action_size, seed).to(device)\n",
      "        self.critic_target = Critic(state_size, action_size, seed).to(device)\n",
      "        self.critic_optimizer = optim.Adam(self.critic_local.parameters(), lr=lr_critic, weight_decay=WEIGHT_DECAY)\n",
      "        \n",
      "        # From class UONoise\n",
      "        self.noise = OUNoise(action_size, seed)\n",
      "        \n",
      "        # From class replay buffer\n",
      "        self.memory = ReplayBuffer(action_size, BUFFER_SIZE, BATCH_SIZE, seed)\n",
      "        \n",
      "        \n",
      "    def step(self, state, action, reward, next_state, done, timestep):\n",
      "        \"\"\"Save experience in replay buffer, and use sample from buffer to learn\"\"\"\n",
      "        \n",
      "        #from add function in Replay Buffer class: store experience\n",
      "        self.memory.add(state, action, reward, next_state, done)\n",
      "        \n",
      "        # If having enough batch size\n",
      "        if len(self.memory) > BATCH_SIZE and timestep % LEARN_EVERY == 0:\n",
      "            for _ in range(learning_num):\n",
      "                #sample data from sample function Replay Buffer class\n",
      "                experiences = self.memory.sample()\n",
      "                #from learn function\n",
      "                self.learn(experiences, GAMMA)\n",
      "                \n",
      "    def act(self, state):\n",
      "        \"\"\"Returns actions for given state as per current policy\"\"\"\n",
      "        #make state input\n",
      "        state = torch.from_numpy(state).float().to(device)\n",
      "        #in eval mode instead of trainning\n",
      "        self.actor_local.eval()\n",
      "        #do not save backprop but increase speed\n",
      "        with torch.no_grad():\n",
      "            action = self.actor_local(state).cpu().data.numpy()\n",
      "        #train actor\n",
      "        self.actor_local.train()\n",
      "        \n",
      "        #from sample noise class\n",
      "        action += self.epsilon * self.noise.sample()\n",
      "        \n",
      "        return np.clip(action, -1, 1)\n",
      "    \n",
      "    def reset(self):\n",
      "        \"\"\" Reset from Noise to mean\"\"\"\n",
      "        self.noise.reset()\n",
      "        \n",
      "    def learn(self, experiences, gamma):\n",
      "        \"\"\"\n",
      "        Experience is a tuple of states, actions, rewards, next_states, dones\n",
      "        Update policy and value parameters using given batch of experience tuples.\n",
      "        Q_targets = r + γ * critic_target(next_state, actor_target(next_state))\n",
      "        \"\"\"\n",
      "        \n",
      "        states, actions, rewards, next_states, dones = experiences\n",
      "        \n",
      "        #use target models\n",
      "        actions_next = self.actor_target(next_states)\n",
      "        #to feed critic we use actor actions\n",
      "        Q_targets_next = self.critic_target(next_states, actions_next)\n",
      "        # compute Q targets\n",
      "        Q_targets = rewards + (gamma * Q_targets_next * (1 - dones))\n",
      "        # critic loss\n",
      "        Q_expected = self.critic_local(states, actions)\n",
      "        critic_loss = F.mse_loss(Q_expected, Q_targets)\n",
      "        # minimize critic the loss\n",
      "        self.critic_optimizer.zero_grad()\n",
      "        critic_loss.backward()\n",
      "        # gradient clipping for critic\n",
      "        if GRAD_CLIPPING > 0:\n",
      "            torch.nn.utils.clip_grad_norm_(self.critic_local.parameters(), GRAD_CLIPPING)\n",
      "        #step updates the parameter\n",
      "        self.critic_optimizer.step()\n",
      "        \n",
      "        # actor\n",
      "        actions_pred = self.actor_local(states)\n",
      "        actor_loss = -self.critic_local(states, actions_pred).mean()\n",
      "        # minimize the loss\n",
      "        self.actor_optimizer.zero_grad()\n",
      "        actor_loss.backward()\n",
      "        self.actor_optimizer.step()\n",
      "        \n",
      "        # update from soft_update function\n",
      "        self.soft_update(self.critic_local, self.critic_target, TAU)\n",
      "        self.soft_update(self.actor_local, self.actor_target, TAU)\n",
      "        # update epsilon decay\n",
      "        if EPSILON_DECAY > 0:\n",
      "            self.epsilon -= EPSILON_DECAY\n",
      "            self.noise.reset()\n",
      "            \n",
      "    def soft_update(self, local_model, target_model, tau):\n",
      "        \"\"\"Soft update model parameters. θ = τ*θ_local + (1 - τ)*θ_target\"\"\"  \n",
      "        for target_param, local_param in zip(target_model.parameters(), local_model.parameters()):\n",
      "            target_param.data.copy_(tau*local_param.data + (1.0-tau)*target_param.data)\n",
      "            \n",
      "class OUNoise:\n",
      "    \"\"\"Ornsten-Uhlenbeck\"\"\"\n",
      "    \n",
      "    def __init__(self, size, seed, mu=0., theta=ou_theta, sigma=ou_sigma):\n",
      "        #array of ones\n",
      "        self.mu = np.array(mu * size)\n",
      "        self.theta = theta\n",
      "        self.sigma = sigma\n",
      "        self.seed = random.seed(seed)\n",
      "        self.size = size\n",
      "        self.reset()\n",
      "        \n",
      "    def reset(self):\n",
      "        \"\"\"Return a shallow copy of x\"\"\"\n",
      "        self.state = copy.copy(self.mu)\n",
      "        \n",
      "    def sample(self):\n",
      "        \"\"\"Update internal state and return it as a noise sample\"\"\"\n",
      "        state = self.state\n",
      "        d_x = self.theta * (self.mu - state) + self.sigma * np.random.standard_normal(self.size)\n",
      "        self.state = state + d_x\n",
      "        return self.state\n",
      "    \n",
      "    \n",
      "class ReplayBuffer:\n",
      "    \"\"\"Store experience tuples.\"\"\"\n",
      "    \n",
      "    def __init__(self, action_size, buffer_size, batch_size, seed):\n",
      "        self.action_size = action_size\n",
      "        #Deque (Doubly Ended Queue)\n",
      "        self.memory = deque(maxlen=buffer_size) \n",
      "        #size of each training\n",
      "        self.batch_size = batch_size\n",
      "        self.experience = namedtuple(\"Experience\", field_names = [\"state\", \"action\", \"reward\", \"next_state\", \"done\"])\n",
      "        self.seed = random.seed(seed)\n",
      "        \n",
      "    def add(self, state, action, reward, next_state, done):\n",
      "        \"\"\"Add new experience to memory.\"\"\"\n",
      "        e = self.experience(state, action, reward, next_state, done)\n",
      "        self.memory.append(e)\n",
      "        \n",
      "    def sample(self):\n",
      "        \"\"\"Random sample of batch from replay buffer\"\"\"\n",
      "        experiences =  random.sample(self.memory, k=self.batch_size)\n",
      "        \n",
      "        #vstack: Stack arrays in sequence vertically (row wise)\n",
      "        states = torch.from_numpy(np.vstack([e.state for e in experiences if e is not None])).float().to(device)\n",
      "        actions = torch.from_numpy(np.vstack([e.action for e in experiences if e is not None])).float().to(device)\n",
      "        rewards = torch.from_numpy(np.vstack([e.reward for e in experiences if e is not None])).float().to(device)\n",
      "        next_states = torch.from_numpy(np.vstack([e.next_state for e in experiences if e is not None])).float().to(device)\n",
      "        dones = torch.from_numpy(np.vstack([e.done for e in experiences if e is not None]).astype(np.uint8)).float().to(device)\n",
      "        \n",
      "        return (states, actions, rewards, next_states, dones)\n",
      "    \n",
      "    def __len__(self):\n",
      "        \"\"\"\"Size of internal memory\"\"\"\n",
      "        return len(self.memory)"
     ]
    }
   ],
   "source": [
    "! cat agent.py"
   ]
  },
  {
   "cell_type": "code",
   "execution_count": 7,
   "metadata": {},
   "outputs": [],
   "source": [
    "import numpy as np\n",
    "import random\n",
    "import time\n",
    "import torch\n",
    "\n",
    "#for training performance\n",
    "import matplotlib.pyplot as plt\n",
    "%matplotlib inline\n",
    "\n",
    "from collections import deque\n",
    "from agent import Agent\n",
    "from unityagents import UnityEnvironment"
   ]
  },
  {
   "cell_type": "code",
   "execution_count": 8,
   "metadata": {},
   "outputs": [],
   "source": [
    "def ddpg(actor_weights_name, critic_weights_name, num_episodes=1500, max_t=1000, print_every=25):\n",
    "    \"\"\"Deep Deterministic Policy Gradient\n",
    "    \"\"\"\n",
    "    #empty list for score storing\n",
    "    mean_scores = [] \n",
    "    #empty list for moving average\n",
    "    moving_avgs = [] \n",
    "    best_score = -np.inf\n",
    "    scores_window = deque(maxlen=100) \n",
    "    #iterate over number of episodes defined\n",
    "    for episode in range(1, num_episodes + 1):\n",
    "        #reset enviroment\n",
    "        env_info = env.reset(train_mode=True)[brain_name] \n",
    "        #state of observations\n",
    "        states = env_info.vector_observations \n",
    "        #set score to zero to number of agents\n",
    "        scores = np.zeros(num_agents)\n",
    "        #from agent script: reset\n",
    "        agent.reset()\n",
    "        #keep track of time\n",
    "        start_time = time.time()\n",
    "        for t in range(max_t):\n",
    "            #pick according to state\n",
    "            actions = agent.act(states) \n",
    "            #make decision according to actions\n",
    "            env_info = env.step(actions)[brain_name]  \n",
    "            next_states = env_info.vector_observations \n",
    "            #get rewards\n",
    "            rewards = env_info.rewards \n",
    "            #check for finished episode\n",
    "            dones = env_info.local_done \n",
    "            #learn (from agent fucntion)\n",
    "            for state, action, reward, next_state, done in zip(states, actions, rewards, next_states, dones):\n",
    "                agent.step(state, action, reward, next_state, done, t)\n",
    "            states = next_states\n",
    "            scores += rewards\n",
    "            #when done break\n",
    "            if np.any(dones):\n",
    "                break\n",
    "        end_time = time.time()\n",
    "        duration = end_time - start_time\n",
    "        #append mean score\n",
    "        mean_scores.append(np.mean(scores)) \n",
    "        scores_window.append(mean_scores[-1]) \n",
    "        moving_avgs.append(np.mean(scores_window))\n",
    "        \n",
    "        if episode % print_every == 0:\n",
    "            print(\"\\rEpisode {} ({}s)\\tMean: {:.1f}\\tMoving Avg: {:.1f}\"\\\n",
    "                  .format(episode, round(duration), mean_scores[-1], moving_avgs[-1]))\n",
    "        if moving_avgs[-1] >= 30.0:\n",
    "            print(\"\\nEnvironment solved in {:d} episodes.\\tAverage score: {:.2f}\"\\\n",
    "                 .format(episode, moving_avgs[-1]))\n",
    "            torch.save(agent.actor_local.state_dict(), actor_weights_name)\n",
    "            torch.save(agent.critic_local.state_dict(), critic_weights_name)\n",
    "            break\n",
    "            \n",
    "    return(mean_scores, moving_avgs)"
   ]
  },
  {
   "cell_type": "code",
   "execution_count": 9,
   "metadata": {},
   "outputs": [],
   "source": [
    "agent = Agent(state_size=state_size, action_size=action_size, seed=12)"
   ]
  },
  {
   "cell_type": "code",
   "execution_count": 10,
   "metadata": {},
   "outputs": [
    {
     "name": "stdout",
     "output_type": "stream",
     "text": [
      "Episode 50 (10s)\tMean: 0.5\tMoving Avg: 1.0\n",
      "Episode 100 (12s)\tMean: 0.1\tMoving Avg: 0.7\n",
      "Episode 150 (12s)\tMean: 0.4\tMoving Avg: 0.3\n",
      "Episode 200 (13s)\tMean: 0.0\tMoving Avg: 0.3\n",
      "Episode 250 (10s)\tMean: 0.2\tMoving Avg: 0.7\n",
      "Episode 300 (10s)\tMean: 2.0\tMoving Avg: 1.3\n",
      "Episode 350 (10s)\tMean: 1.1\tMoving Avg: 1.6\n",
      "Episode 400 (13s)\tMean: 3.9\tMoving Avg: 2.1\n",
      "Episode 450 (10s)\tMean: 5.5\tMoving Avg: 2.9\n",
      "Episode 500 (10s)\tMean: 3.8\tMoving Avg: 3.8\n",
      "Episode 550 (10s)\tMean: 12.2\tMoving Avg: 6.2\n",
      "Episode 600 (10s)\tMean: 17.9\tMoving Avg: 11.3\n",
      "Episode 650 (11s)\tMean: 23.0\tMoving Avg: 16.8\n",
      "Episode 700 (14s)\tMean: 26.5\tMoving Avg: 20.5\n",
      "Episode 750 (12s)\tMean: 33.8\tMoving Avg: 24.2\n",
      "Episode 800 (10s)\tMean: 37.7\tMoving Avg: 29.1\n",
      "\n",
      "Environment solved in 810 episodes.\tAverage score: 30.03\n"
     ]
    }
   ],
   "source": [
    "scores, avgs = ddpg(actor_weights_name ='actor_single.pth', critic_weights_name='critic_single.pth', print_every=50)"
   ]
  },
  {
   "cell_type": "code",
   "execution_count": 14,
   "metadata": {},
   "outputs": [
    {
     "data": {
      "image/png": "[encoded data removed]",
      "text/plain": [
       "<Figure size 432x288 with 1 Axes>"
      ]
     },
     "metadata": {
      "needs_background": "light"
     },
     "output_type": "display_data"
    }
   ],
   "source": [
    "plt.plot(np.arange(len(scores)), scores, label='DDPG')\n",
    "plt.plot(np.arange(len(scores)), avgs, c='r', label='moving average')\n",
    "plt.title(\"Mean score by episode\")\n",
    "plt.ylabel('Mean Score')\n",
    "plt.xlabel('Episode')\n",
    "plt.legend(loc='upper left')\n",
    "plt.show()"
   ]
  },
  {
   "cell_type": "code",
   "execution_count": 15,
   "metadata": {},
   "outputs": [],
   "source": [
    "env.close()"
   ]
  },
  {
   "cell_type": "markdown",
   "metadata": {},
   "source": [
    "## Future Work:\n",
    "* Even though Gamma value pretty high, we might be able to increase a little bit more.\n",
    "* Decresing the learning interval or increasing the steps when learning might yield to faster results, also changing the Actor and Critic architecture.\n",
    "* Finally by adding prioritized experience replay as [(Hou & Zhang, 2017)](https://cardwing.github.io/files/RL_course_report.pdf)."
   ]
  }
 ],
 "metadata": {
  "kernelspec": {
   "display_name": "drlnd",
   "language": "python",
   "name": "drlnd"
  },
  "language_info": {
   "codemirror_mode": {
    "name": "ipython",
    "version": 3
   },
   "file_extension": ".py",
   "mimetype": "text/x-python",
   "name": "python",
   "nbconvert_exporter": "python",
   "pygments_lexer": "ipython3",
   "version": "3.6.10"
  }
 },
 "nbformat": 4,
 "nbformat_minor": 4
}
